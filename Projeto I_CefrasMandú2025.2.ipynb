{
 "cells": [
  {
   "cell_type": "markdown",
   "id": "890915e7",
   "metadata": {},
   "source": [
    "## **Projeto I - Cancelamento Catastrófico**"
   ]
  },
  {
   "cell_type": "markdown",
   "id": "b8073ba3",
   "metadata": {},
   "source": [
    "### **1. Definição de cancelamento catastrófico**"
   ]
  },
  {
   "cell_type": "markdown",
   "id": "0dde47d3",
   "metadata": {},
   "source": [
    "Nas operações numéricas, o **cancelamento catastrófico** é a perda drástica de precisão que ocorre ao subtrair dois números de ponto flutuante que são muito próximos em valor.\n",
    "\n",
    "Quando subtraímos dois números quase idênticos, os dígitos mais significativos (da esquerda para a direita) se cancelam. O resultado final será um número pequeno, cujo valor é determinado pelos dígitos menos significativos dos números originais. O problema é que esses dígitos menos significativos são frequentemente os mais afetados por erros de arredondamento inerentes à representação de números em um computador.\n",
    "\n",
    "Consequentemente, o erro relativo do resultado pode ser muito grande, mesmo que os números originais fossem representados com alta precisão. Isso \"contamina\" o resultado, tornando-o inútil ou altamente impreciso.\n",
    "\n",
    "**Exemplo Simples:**\n",
    "Imagine que trabalhamos com 4 dígitos significativos.\n",
    "\n",
    "- Seja $a = 0.1235$\n",
    "- Seja $b = 0.1234$\n",
    "\n",
    "A subtração exata é a−b=0.0001. No entanto, se a e b já são resultados de cálculos anteriores com pequenos erros, por exemplo:\n",
    "\n",
    "- $a\\_{real} = 0.12354$ (arredondado para $0.1235$)\n",
    "- $b\\_{real} = 0.12343$ (arredondado para $0.1234$)\n",
    "\n",
    "O resultado da nossa operação com precisão limitada é $0.1235 - 0.1234 = 0.0001$.\n",
    "O resultado real seria $0.12354 - 0.12343 = 0.00011$.\n",
    "\n",
    "O erro absoluto é pequeno ($0.00001$), mas o erro relativo é enorme:\n",
    "$$\\text{Erro Relativo} = \\frac{|0.0001 - 0.00011|}{|0.00011|} \\approx 0.09 = 9\\%$$\n",
    "Perdemos quase toda a precisão da nossa operação, mesmo partindo de números com 4 dígitos de precisão."
   ]
  },
  {
   "cell_type": "markdown",
   "id": "498e3f28",
   "metadata": {},
   "source": [
    "### **2. Caso de Estudo I: Equação de Segundo Grau**\n",
    "\n",
    "Analisaremos a equação $x^2 + 300x - 0.014 = 0$ usando a fórmula de Bhaskara com 6 dígitos significativos.\n",
    "\n",
    "$$x = \\frac{-b \\pm \\sqrt{b^2 - 4ac}}{2a}$$\n",
    "\n",
    "Os coeficientes, com 6 dígitos significativos, são:\n",
    "\n",
    "  - $a = 1.00000$\n",
    "  - $b = 300.000$\n",
    "  - $c = -0.0140000$\n",
    "\n",
    "**Análise Numérica Manual (com arredondamento para 6 dígitos a cada passo):**\n",
    "\n",
    "1.  **Calcular o discriminante $\\\\Delta = b^2 - 4ac$:**\n",
    "\n",
    "      * $b^2 = (300.000)^2 = 90000.0$\n",
    "      * $4ac = 4 \\\\times 1.00000 \\\\times (-0.0140000) = -0.0560000$\n",
    "      * $\\\\Delta = 90000.0 - (-0.0560000) = 90000.056$\n",
    "      * Arredondando para 6 dígitos significativos: $\\\\Delta \\\\approx 90000.1$\n",
    "\n",
    "2.  **Calcular a raiz quadrada de $\\\\Delta$:**\n",
    "\n",
    "      * $\\\\sqrt{\\\\Delta} = \\\\sqrt{90000.1} \\\\approx 300.0001666...$\n",
    "      * Arredondando para 6 dígitos significativos: $\\\\sqrt{\\\\Delta} \\\\approx 300.000$\n",
    "\n",
    "3.  **Calcular as raízes:**\n",
    "\n",
    "      * **Raiz $x\\_1$ (usando $-b + \\\\sqrt{\\\\Delta}$):**\n",
    "        $$x_1 = \\frac{-300.000 + 300.000}{2 \\times 1.00000} = \\frac{0.00000}{2.00000} = 0.00000$$\n",
    "        Aqui ocorre o **cancelamento catastrófico**. Como $4ac$ é muito pequeno em comparação com $b^2$, $\\\\sqrt{b^2 - 4ac}$ é extremamente próximo de $|b|$. A subtração $-b + \\\\sqrt{\\\\Delta}$ resulta em uma perda total de precisão. O resultado $x\\_1=0$ é claramente incorreto.\n",
    "\n",
    "      * **Raiz $x\\_2$ (usando $-b - \\\\sqrt{\\\\Delta}$):**\n",
    "        $$x_2 = \\frac{-300.000 - 300.000}{2 \\times 1.00000} = \\frac{-600.000}{2.00000} = -300.000$$\n",
    "        Esta raiz é calculada de forma estável, pois a operação no numerador é uma soma de dois números de mesma ordem de magnitude e mesmo sinal, evitando o cancelamento.\n",
    "\n",
    "**Impacto do Arredondamento e Solução:**\n",
    "\n",
    "O impacto do arredondamento em seis dígitos é devastador para o cálculo de $x\\_1$, pois leva a um cancelamento catastrófico. A raiz, que deveria ser um número pequeno e positivo, é calculada como zero.\n",
    "\n",
    "Para contornar isso, podemos usar uma fórmula alternativa e numericamente estável para a raiz problemática. Usando as Relações de Girard, sabemos que $x\\_1 \\\\cdot x\\_2 = c/a$. Portanto, após calcular a raiz estável ($x\\_2$), podemos encontrar $x\\_1$ da seguinte forma:\n",
    "\n",
    "$$x_1 = \\frac{c/a}{x_2}$$\n",
    "\n",
    "**Cálculo da raiz $x\\_1$ com a fórmula estável:**\n",
    "$$x_1 = \\frac{-0.0140000 / 1.00000}{-300.000} = \\frac{-0.0140000}{-300.000} \\approx 0.0000466666...$$\n",
    "Arredondando para 6 dígitos significativos: $x\\_1 \\\\approx 4.66667 \\\\times 10^{-5}$.\n",
    "\n",
    "Este valor é muito mais preciso."
   ]
  },
  {
   "cell_type": "code",
   "execution_count": 1,
   "id": "11662dfb",
   "metadata": {},
   "outputs": [],
   "source": [
    "import math \n",
    "from decimal import Decimal, getcontext"
   ]
  },
  {
   "cell_type": "markdown",
   "id": "755e92b1",
   "metadata": {},
   "source": [
    "Define a precisão para 6 dígitos significativos para a biblioteca Decimal\n",
    "\n",
    "    getcontext().prec = 6\n"
   ]
  },
  {
   "cell_type": "markdown",
   "id": "9ce7545b",
   "metadata": {},
   "source": [
    "Calcula as raízes usando a fórmula padrão de Bhaskara com precisão Decimal.\n",
    "\n",
    "    def bhaskara_padrao(a, b, c):\n",
    "        print(\"--- Usando Fórmula Padrão de Bhaskara ---\")\n",
    "    \n"
   ]
  },
  {
   "cell_type": "markdown",
   "id": "51738799",
   "metadata": {},
   "source": [
    "Converte para Decimal para simular a precisão limitada\n",
    "\n",
    "        a, b, c = Decimal(a), Decimal(b), Decimal(c)"
   ]
  },
  {
   "cell_type": "markdown",
   "id": "047dd89b",
   "metadata": {},
   "source": [
    "Calcula o discriminante\n",
    "\n",
    "        delta = b**2 - 4*a*c\n",
    "\n",
    "        print(f\"Delta (b^2 - 4ac) = {delta}\")"
   ]
  },
  {
   "cell_type": "markdown",
   "id": "d58cf34f",
   "metadata": {},
   "source": [
    "Calcula a raiz de delta\n",
    "\n",
    "        sqrt_delta = delta.sqrt()\n",
    "\n",
    "        print(f\"Raiz de Delta = {sqrt_delta}\")"
   ]
  },
  {
   "cell_type": "markdown",
   "id": "9921fc7b",
   "metadata": {},
   "source": [
    "Calcula as raízes\n",
    "\n",
    "Raiz 1 (propensa a cancelamento catastrófico)\n",
    "\n",
    "        x1 = (-b + sqrt_delta) / (2*a)\n",
    "\n",
    "        print(f\"Numerador x1 (-b + sqrt_delta) = {-b + sqrt_delta}\")"
   ]
  },
  {
   "cell_type": "markdown",
   "id": "4f58588d",
   "metadata": {},
   "source": [
    "Raiz 2 (estável)\n",
    "\n",
    "        x2 = (-b - sqrt_delta) / (2*a)\n",
    "\n",
    "        print(f\"Numerador x2 (-b - sqrt_delta) = {-b - sqrt_delta}\")"
   ]
  },
  {
   "cell_type": "markdown",
   "id": "ff6c78c8",
   "metadata": {},
   "source": [
    "Calcula as raízes usando uma fórmula numericamente mais estável\n",
    "\n",
    "    def bhaskara_robusto(a, b, c):\n",
    "        print(\"\\n--- Usando Fórmula Robusta (Evitando Cancelamento) ---\")"
   ]
  },
  {
   "cell_type": "markdown",
   "id": "c73a19fc",
   "metadata": {},
   "source": [
    "Usa alta precisão para a parte inicial\n",
    "\n",
    "        a_f, b_f, c_f = float(a), float(b), float(c)\n",
    "        delta = b_f**2 - 4*a_f*c_f\n",
    "        sqrt_delta = math.sqrt(delta)"
   ]
  },
  {
   "cell_type": "markdown",
   "id": "387652cd",
   "metadata": {},
   "source": [
    "Calcula a raiz estável primeiro\n",
    "\n",
    "Se b > 0, x2 é estável. Se b < 0, x1 seria estável.\n",
    "\n",
    "        x2 = (-b_f - sqrt_delta) / (2*a_f)"
   ]
  },
  {
   "cell_type": "markdown",
   "id": "51c7e4a4",
   "metadata": {},
   "source": [
    "Usa a Relação de Girard para a outra raiz\n",
    "\n",
    "    x1 = (c_f / a_f) / x2\n",
    "\n",
    "    return Decimal(x1), Decimal(x2)"
   ]
  },
  {
   "cell_type": "markdown",
   "id": "3021ced5",
   "metadata": {},
   "source": [
    "Calcula as raízes com a precisão máxima do Python para comparação.\n",
    "\n",
    "    def raizes_reais_alta_precisao(a, b, c):\n",
    "\n",
    "Alta precisão para ter uma \"verdade\"\n",
    "\n",
    "    getcontext().prec = 50\n",
    "    a_d, b_d, c_d = Decimal(a), Decimal(b), Decimal(c)\n",
    "    delta = (b_d**2 - 4*a_d*c_d)\n",
    "    sqrt_delta = delta.sqrt()\n",
    "    x1 = (-b_d + sqrt_delta) / (2*a_d)\n",
    "    x2 = (-b_d - sqrt_delta) / (2*a_d)\n",
    "\n",
    "Retorna à precisão do problema\n",
    "\n",
    "    getcontext().prec = 6 \n",
    "    return x1, x2"
   ]
  },
  {
   "cell_type": "markdown",
   "id": "3fca1dff",
   "metadata": {},
   "source": [
    "\n",
    "if __name__ == \"__main__\":\n",
    "\n",
    "    a = 1.0\n",
    "    b = 300.0\n",
    "    c = -0.014\n",
    "\n",
    "    print(\"=\"*50)\n",
    "    print(\"Caso de Estudo I: Equação de Segundo Grau\")\n",
    "    print(\"=\"*50)\n",
    "\n",
    "Calcula com a fórmula padrão e precisão limitada\n",
    "\n",
    "    x1_padrao, x2_padrao = bhaskara_padrao(a, b, c)\n",
    "    print(f\"\\nRaízes (Fórmula Padrão): x1 = {x1_padrao:.6E}, x2 = {x2_padrao:.6E}\")"
   ]
  },
  {
   "cell_type": "markdown",
   "id": "0acf79ba",
   "metadata": {},
   "source": [
    "Calcula com a fórmula robusta\n",
    "\n",
    "    x1_robusto, x2_robusto = bhaskara_robusto(a, b, c)\n",
    "    print(f\"Raízes (Fórmula Robusta): x1 = {x1_robusto:.6E}, x2 = {x2_robusto:.6E}\")"
   ]
  },
  {
   "cell_type": "markdown",
   "id": "683a05b4",
   "metadata": {},
   "source": [
    "Calcula com alta precisão para ter um valor de referência\n",
    "\n",
    "    x1_real, x2_real = raizes_reais_alta_precisao(a, b, c)\n",
    "    print(\"\\n--- Comparação ---\")\n",
    "    print(f\"Raiz 'real' (alta precisão) x1: {x1_real:.6E}\")\n",
    "    print(f\"Raiz Padrão x1:              {x1_padrao:.6E}\")\n",
    "    print(f\"Raiz Robusta x1:             {x1_robusto:.6E}\\n\")\n",
    "    \n",
    "    print(f\"Raiz 'real' (alta precisão) x2: {x2_real:.6E}\")\n",
    "    print(f\"Raiz Padrão x2:              {x2_padrao:.6E}\")\n",
    "    print(f\"Raiz Robusta x2:             {x2_robusto:.6E}\")"
   ]
  },
  {
   "cell_type": "code",
   "execution_count": 2,
   "id": "58abe20b",
   "metadata": {},
   "outputs": [
    {
     "name": "stdout",
     "output_type": "stream",
     "text": [
      "==================================================\n",
      "Caso de Estudo I: Equação de Segundo Grau\n",
      "==================================================\n",
      "--- Usando Fórmula Padrão de Bhaskara ---\n",
      "Coeficientes: a=1, b=300, c=-0.01400000000000000029143354396410359186120331287384033203125\n",
      "Delta (b^2 - 4ac) = 90000.1\n",
      "Raiz de Delta = 300.000\n",
      "Numerador x1 (-b + sqrt_delta) = 0.000\n",
      "Numerador x2 (-b - sqrt_delta) = -600.000\n",
      "\n",
      "Raízes (Fórmula Padrão): x1 = 0.000000E+3, x2 = -3.000000E+2\n",
      "\n",
      "--- Usando Fórmula Robusta (Evitando Cancelamento) ---\n",
      "Raízes (Fórmula Robusta): x1 = 4.666666E-5, x2 = -3.000000E+2\n",
      "\n",
      "--- Comparação ---\n",
      "Raiz 'real' (alta precisão) x1: 4.666666E-5\n",
      "Raiz Padrão x1:              0.000000E+3\n",
      "Raiz Robusta x1:             4.666666E-5\n",
      "\n",
      "Raiz 'real' (alta precisão) x2: -3.000000E+2\n",
      "Raiz Padrão x2:              -3.000000E+2\n",
      "Raiz Robusta x2:             -3.000000E+2\n"
     ]
    }
   ],
   "source": [
    "getcontext().prec = 6\n",
    "\n",
    "def bhaskara_padrao(a, b, c):\n",
    "    print(\"--- Usando Fórmula Padrão de Bhaskara ---\")\n",
    "    \n",
    "    a, b, c = Decimal(a), Decimal(b), Decimal(c)\n",
    "    \n",
    "    print(f\"Coeficientes: a={a}, b={b}, c={c}\")\n",
    "\n",
    "    delta = b**2 - 4*a*c\n",
    "    print(f\"Delta (b^2 - 4ac) = {delta}\")\n",
    "\n",
    "    sqrt_delta = delta.sqrt()\n",
    "    print(f\"Raiz de Delta = {sqrt_delta}\")\n",
    "\n",
    "    \n",
    "    x1 = (-b + sqrt_delta) / (2*a)\n",
    "    print(f\"Numerador x1 (-b + sqrt_delta) = {-b + sqrt_delta}\")\n",
    "    \n",
    "    x2 = (-b - sqrt_delta) / (2*a)\n",
    "    print(f\"Numerador x2 (-b - sqrt_delta) = {-b - sqrt_delta}\")\n",
    "\n",
    "    return x1, x2\n",
    "\n",
    "def bhaskara_robusto(a, b, c):\n",
    "    print(\"\\n--- Usando Fórmula Robusta (Evitando Cancelamento) ---\")\n",
    "\n",
    "    a_f, b_f, c_f = float(a), float(b), float(c)\n",
    "    delta = b_f**2 - 4*a_f*c_f\n",
    "    sqrt_delta = math.sqrt(delta)\n",
    "\n",
    "    x2 = (-b_f - sqrt_delta) / (2*a_f)\n",
    "\n",
    "    x1 = (c_f / a_f) / x2\n",
    "\n",
    "    return Decimal(x1), Decimal(x2)\n",
    "\n",
    "def raizes_reais_alta_precisao(a, b, c):\n",
    "    getcontext().prec = 50 \n",
    "    a_d, b_d, c_d = Decimal(a), Decimal(b), Decimal(c)\n",
    "    delta = (b_d**2 - 4*a_d*c_d)\n",
    "    sqrt_delta = delta.sqrt()\n",
    "    x1 = (-b_d + sqrt_delta) / (2*a_d)\n",
    "    x2 = (-b_d - sqrt_delta) / (2*a_d)\n",
    "    getcontext().prec = 6 \n",
    "    return x1, x2\n",
    "\n",
    "if __name__ == \"__main__\":\n",
    "    a = 1.0\n",
    "    b = 300.0\n",
    "    c = -0.014\n",
    "\n",
    "    print(\"=\"*50)\n",
    "    print(\"Caso de Estudo I: Equação de Segundo Grau\")\n",
    "    print(\"=\"*50)\n",
    "\n",
    "    x1_padrao, x2_padrao = bhaskara_padrao(a, b, c)\n",
    "    print(f\"\\nRaízes (Fórmula Padrão): x1 = {x1_padrao:.6E}, x2 = {x2_padrao:.6E}\")\n",
    "    \n",
    "    x1_robusto, x2_robusto = bhaskara_robusto(a, b, c)\n",
    "    print(f\"Raízes (Fórmula Robusta): x1 = {x1_robusto:.6E}, x2 = {x2_robusto:.6E}\")\n",
    "\n",
    "    x1_real, x2_real = raizes_reais_alta_precisao(a, b, c)\n",
    "    print(\"\\n--- Comparação ---\")\n",
    "    print(f\"Raiz 'real' (alta precisão) x1: {x1_real:.6E}\")\n",
    "    print(f\"Raiz Padrão x1:              {x1_padrao:.6E}\")\n",
    "    print(f\"Raiz Robusta x1:             {x1_robusto:.6E}\\n\")\n",
    "    \n",
    "    print(f\"Raiz 'real' (alta precisão) x2: {x2_real:.6E}\")\n",
    "    print(f\"Raiz Padrão x2:              {x2_padrao:.6E}\")\n",
    "    print(f\"Raiz Robusta x2:             {x2_robusto:.6E}\")"
   ]
  },
  {
   "cell_type": "markdown",
   "id": "20ea55c8",
   "metadata": {},
   "source": [
    "### **3. Caso de Estudo II: Identidade Numérica**\n",
    "\n",
    "Analisaremos a identidade\n",
    "\n",
    "$f(x) = \\\\frac{(1 + x) - 1}{x}$, que algebricamente é igual a 1 (para $x \\\\neq 0$).\n",
    "\n",
    "Quando $x$ se aproxima de zero, o valor de $(1+x)$ se aproxima de 1. Em aritmética de ponto flutuante de precisão finita, existe um limite para quão pequeno $x$ pode ser antes que o computador não consiga mais distinguir $(1+x)$ de $1$. Esse limite está relacionado ao **épsilon de máquina**.\n",
    "\n",
    "O **épsilon de máquina** ($\\\\varepsilon$) é o menor número positivo tal que $1 + \\\\varepsilon \\\\neq 1$ na aritmética do computador. Para a maioria dos sistemas modernos (padrão IEEE 754 de 64 bits), $\\\\varepsilon \\\\approx 2.22 \\\\times 10^{-16}$.\n",
    "\n",
    "**O que acontece quando $x$ se aproxima de $\\\\varepsilon$ de máquina?**\n",
    "\n",
    "  - **Para $x \\> \\\\varepsilon$:** O computador consegue calcular $1+x$ como um valor ligeiramente maior que 1. A subtração $(1+x)-1$ resulta em $x$, e a divisão $x/x$ resulta em 1 (com pequenas imprecisões).\n",
    "  - **Para $x \\\\le \\\\varepsilon$:** O computador avalia a expressão $1+x$ como sendo exatamente $1$. A operação no numerador se torna $1 - 1 = 0$. Consequentemente, a função inteira é calculada como $0/x = 0$.\n",
    "\n",
    "O valor da função \"cai\" abruptamente de 1 para 0 devido ao cancelamento catastrófico que se torna uma anulação total quando a precisão da máquina é excedida.\n",
    "\n",
    "**Possíveis Soluções:**\n",
    "\n",
    "1.  **Simplificação Algébrica:** A solução mais óbvia e eficaz neste caso é simplificar a expressão. Como $\\\\frac{(1+x)-1}{x} = \\\\frac{x}{x} = 1$, o cálculo se torna trivial.\n",
    "\n",
    "2.  **Uso de Séries de Taylor:** Para funções mais complexas onde a simplificação não é direta, pode-se usar uma expansão em Séries de Taylor em torno do ponto problemático. Por exemplo, para \n",
    "\n",
    "$f(x) = \\\\frac{e^x - 1}{x}$, que sofre do mesmo problema para $x \\\\approx 0$, poderíamos usar a expansão $e^x = 1 + x + \\\\frac{x^2}{2\\!} + ...$ para obter $f(x) \\\\approx \\\\frac{(1+x) - 1}{x} = 1$ para $x$ pequeno.\n",
    "\n",
    "3.  **Reformulação da Expressão:** Multiplicar pelo conjugado é uma técnica comum. Por exemplo, para $g(x) = \\\\frac{\\\\sqrt{1+x}-1}{x}$, multiplicamos o numerador e o denominador por $\\\\sqrt{1+x}+1$ para obter a forma estável $g(x) = \\\\frac{1}{\\\\sqrt{1+x}+1}$."
   ]
  },
  {
   "cell_type": "code",
   "execution_count": 3,
   "id": "05b40462",
   "metadata": {},
   "outputs": [],
   "source": [
    "import numpy as np\n",
    "import matplotlib.pyplot as plt"
   ]
  },
  {
   "cell_type": "markdown",
   "id": "0fab169d",
   "metadata": {},
   "source": [
    "Calcula a expressão (1+x) - 1 / x, propensa a cancelamento catastrófico.\n",
    "\n",
    "    def f(x):\n",
    "\n",
    "        return ((1 + x) - 1) / x\n",
    "        \n",
    "    if __name__ == \"__main__\":\n",
    "    print(\"=\"*50)\n",
    "    print(\"Caso de Estudo II: Identidade Numérica\")\n",
    "    print(\"=\"*50)"
   ]
  },
  {
   "cell_type": "markdown",
   "id": "cc08f547",
   "metadata": {},
   "source": [
    "Valores de x para testar, incluindo os solicitados\n",
    "\n",
    "    x_values_specific = [10**-12, 10**-13, 10**-14, 10**-15, 10**-16, 10**-17]\n",
    "    \n",
    "    print(\"Calculando f(x) para valores específicos de x:\")\n",
    "    print(\"-\" * 35)\n",
    "    print(f\"{'x':<10} | {'f(x)':<20}\")\n",
    "    print(\"-\" * 35)\n",
    "    for x in x_values_specific:\n",
    "        result = f(x)\n",
    "        print(f\"{x:<10.1E} | {result:<20.17f}\")"
   ]
  },
  {
   "cell_type": "markdown",
   "id": "fd09389d",
   "metadata": {},
   "source": [
    "Gera uma gama mais ampla de valores de x para os gráficos\n",
    "\n",
    "    x_values_plot = np.logspace(-20, 0, 100)\n",
    "    y_values_plot = np.zeros_like(x_values_plot)\n",
    "\n",
    "    for i, x in enumerate(x_values_plot):\n",
    "        y_values_plot[i] = f(x)\n"
   ]
  },
  {
   "cell_type": "markdown",
   "id": "605dcedf",
   "metadata": {},
   "source": [
    "Épsilon de máquina para float64 (padrão do NumPy)\n",
    "\n",
    "    machine_epsilon = np.finfo(float).eps\n",
    "    print(f\"\\nÉpsilon de Máquina (float64) ~ {machine_epsilon:.2E}\\n\")"
   ]
  },
  {
   "cell_type": "markdown",
   "id": "6c74e78e",
   "metadata": {},
   "source": [
    "*Geração dos Gráficos*\n",
    "\n",
    "Gráfico 1: Escala Logarítmica (log-log)\n",
    "\n",
    "    plt.figure(figsize=(10, 6))\n",
    "    plt.loglog(x_values_plot, y_values_plot, 'b-o', markersize=4, label='f(x) calculado')\n",
    "    plt.axvline(machine_epsilon, color='r', linestyle='--', label=f'Épsilon de Máquina ({machine_epsilon:.2E})')\n",
    "    plt.title('Comportamento de f(x) - Escala Log-Log')\n",
    "    plt.xlabel('x')\n",
    "    plt.ylabel('f(x)')\n",
    "    plt.grid(True, which=\"both\", ls=\"--\")\n",
    "    plt.legend()\n",
    "    plt.savefig('grafico_log_log.png')\n",
    "    print(\"Gráfico 'grafico_log_log.png' gerado.\")"
   ]
  },
  {
   "cell_type": "markdown",
   "id": "a0d1136b",
   "metadata": {},
   "source": [
    "Gráfico 2: Escala Linear-Logarítmica (semilogx)\n",
    "\n",
    "    plt.figure(figsize=(10, 6))\n",
    "    plt.semilogx(x_values_plot, y_values_plot, 'g-o', markersize=4, label='f(x) calculado')\n",
    "    plt.axvline(machine_epsilon, color='r', linestyle='--', label=f'Épsilon de Máquina ({machine_epsilon:.2E})')\n",
    "    plt.title('Comportamento de f(x) - Escala Linear-Log')\n",
    "    plt.xlabel('x')\n",
    "    plt.ylabel('f(x)')\n",
    "\n",
    "Ajusta o limite do eixo y para melhor visualização\n",
    "\n",
    "    plt.ylim(-0.1, 1.2) # Ajusta o limite do eixo y para melhor visualização\n",
    "    plt.grid(True, which=\"both\", ls=\"--\")\n",
    "    plt.legend()\n",
    "    plt.savefig('grafico_semilogx.png')\n",
    "    print(\"Gráfico 'grafico_semilogx.png' gerado.\")"
   ]
  },
  {
   "cell_type": "markdown",
   "id": "c5ca35f0",
   "metadata": {},
   "source": [
    "Exibir gráficos interativos:\n",
    "\n",
    "    plt.show()"
   ]
  },
  {
   "cell_type": "code",
   "execution_count": 4,
   "id": "521ec00b",
   "metadata": {},
   "outputs": [
    {
     "name": "stdout",
     "output_type": "stream",
     "text": [
      "==================================================\n",
      "Caso de Estudo II: Identidade Numérica\n",
      "==================================================\n",
      "Calculando f(x) para valores específicos de x:\n",
      "-----------------------------------\n",
      "x          | f(x)                \n",
      "-----------------------------------\n",
      "1.0E-12    | 1.00008890058234101 \n",
      "1.0E-13    | 0.99920072216264089 \n",
      "1.0E-14    | 0.99920072216264089 \n",
      "1.0E-15    | 1.11022302462515654 \n",
      "1.0E-16    | 0.00000000000000000 \n",
      "1.0E-17    | 0.00000000000000000 \n",
      "\n",
      "Épsilon de Máquina (float64) ~ 2.22E-16\n",
      "\n",
      "Gráfico 'grafico_log_log.png' gerado.\n",
      "Gráfico 'grafico_semilogx.png' gerado.\n"
     ]
    },
    {
     "data": {
      "image/png": "[encoded data removed]",
      "text/plain": [
       "<Figure size 1000x600 with 1 Axes>"
      ]
     },
     "metadata": {},
     "output_type": "display_data"
    },
    {
     "data": {
      "image/png": "[encoded data removed]",
      "text/plain": [
       "<Figure size 1000x600 with 1 Axes>"
      ]
     },
     "metadata": {},
     "output_type": "display_data"
    }
   ],
   "source": [
    "def f(x):\n",
    "    return ((1 + x) - 1) / x\n",
    "\n",
    "if __name__ == \"__main__\":\n",
    "    print(\"=\"*50)\n",
    "    print(\"Caso de Estudo II: Identidade Numérica\")\n",
    "    print(\"=\"*50)\n",
    "    \n",
    "    x_values_specific = [10**-12, 10**-13, 10**-14, 10**-15, 10**-16, 10**-17]\n",
    "    \n",
    "    print(\"Calculando f(x) para valores específicos de x:\")\n",
    "    print(\"-\" * 35)\n",
    "    print(f\"{'x':<10} | {'f(x)':<20}\")\n",
    "    print(\"-\" * 35)\n",
    "    for x in x_values_specific:\n",
    "        result = f(x)\n",
    "        print(f\"{x:<10.1E} | {result:<20.17f}\")\n",
    "    \n",
    "    x_values_plot = np.logspace(-20, 0, 100)\n",
    "    y_values_plot = np.zeros_like(x_values_plot)\n",
    "\n",
    "    for i, x in enumerate(x_values_plot):\n",
    "        y_values_plot[i] = f(x)\n",
    "        \n",
    "    machine_epsilon = np.finfo(float).eps\n",
    "    print(f\"\\nÉpsilon de Máquina (float64) ~ {machine_epsilon:.2E}\\n\")\n",
    "\n",
    "    #Gráfico 1: Escala Logarítmica (log-log)\n",
    "    plt.figure(figsize=(10, 6))\n",
    "    plt.loglog(x_values_plot, y_values_plot, 'b-o', markersize=4, label='f(x) calculado')\n",
    "    plt.axvline(machine_epsilon, color='r', linestyle='--', label=f'Épsilon de Máquina ({machine_epsilon:.2E})')\n",
    "    plt.title('Comportamento de f(x) - Escala Log-Log')\n",
    "    plt.xlabel('x')\n",
    "    plt.ylabel('f(x)')\n",
    "    plt.grid(True, which=\"both\", ls=\"--\")\n",
    "    plt.legend()\n",
    "    plt.savefig('grafico_log_log.png')\n",
    "    print(\"Gráfico 'grafico_log_log.png' gerado.\")\n",
    "\n",
    "    #Gráfico 2: Escala Linear-Logarítmica (semilogx)\n",
    "    plt.figure(figsize=(10, 6))\n",
    "    plt.semilogx(x_values_plot, y_values_plot, 'g-o', markersize=4, label='f(x) calculado')\n",
    "    plt.axvline(machine_epsilon, color='r', linestyle='--', label=f'Épsilon de Máquina ({machine_epsilon:.2E})')\n",
    "    plt.title('Comportamento de f(x) - Escala Linear-Log')\n",
    "    plt.xlabel('x')\n",
    "    plt.ylabel('f(x)')\n",
    "    plt.ylim(-0.1, 1.2) \n",
    "    plt.grid(True, which=\"both\", ls=\"--\")\n",
    "    plt.legend()\n",
    "    plt.savefig('grafico_semilogx.png')\n",
    "    print(\"Gráfico 'grafico_semilogx.png' gerado.\")\n",
    "    \n",
    "    plt.show() "
   ]
  }
 ],
 "metadata": {
  "kernelspec": {
   "display_name": "Python 3",
   "language": "python",
   "name": "python3"
  },
  "language_info": {
   "codemirror_mode": {
    "name": "ipython",
    "version": 3
   },
   "file_extension": ".py",
   "mimetype": "text/x-python",
   "name": "python",
   "nbconvert_exporter": "python",
   "pygments_lexer": "ipython3",
   "version": "3.11.9"
  }
 },
 "nbformat": 4,
 "nbformat_minor": 5
}
