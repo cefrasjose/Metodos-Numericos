{
 "cells": [
  {
   "cell_type": "markdown",
   "id": "411b112d",
   "metadata": {},
   "source": [
    "## Atividade 1.1 - Estimação de π por aproximação por série de Taylor"
   ]
  },
  {
   "cell_type": "code",
   "execution_count": 1,
   "id": "79cb5245",
   "metadata": {},
   "outputs": [],
   "source": [
    "import numpy as np\n",
    "import pandas as pd"
   ]
  },
  {
   "cell_type": "markdown",
   "id": "1aea3cb5",
   "metadata": {},
   "source": [
    "\n",
    "Calcula arctan(x) usando série de Taylor com k termos\n",
    "arctan(x) = Σ(n=0 to ∞) (-1)^n * x^(2n+1) / (2n+1)\n"
   ]
  },
  {
   "cell_type": "code",
   "execution_count": 2,
   "id": "4b4e0730",
   "metadata": {},
   "outputs": [],
   "source": [
    "def arctan_taylor(x, k_termos):\n",
    "    resultado = 0\n",
    "    for n in range(k_termos):\n",
    "        termos = ((-1)**n) * (x**(2*n + 1)) / (2*n + 1)\n",
    "        resultado += termos\n",
    "    return resultado"
   ]
  },
  {
   "cell_type": "markdown",
   "id": "ae3901a3",
   "metadata": {},
   "source": [
    "Estima π usando a fórmula: π = 4 * arctan(1)"
   ]
  },
  {
   "cell_type": "code",
   "execution_count": 3,
   "id": "f48decdd",
   "metadata": {},
   "outputs": [],
   "source": [
    "def estimar_pi(k_termos):\n",
    "    arctan_1 = arctan_taylor(1, k_termos)\n",
    "    pi_estimado = 4 * arctan_1\n",
    "    return pi_estimado"
   ]
  },
  {
   "cell_type": "markdown",
   "id": "2bd3c050",
   "metadata": {},
   "source": [
    "Valores de π para comparação"
   ]
  },
  {
   "cell_type": "code",
   "execution_count": 4,
   "id": "d986cbb0",
   "metadata": {},
   "outputs": [],
   "source": [
    "pi_real = np.pi"
   ]
  },
  {
   "cell_type": "markdown",
   "id": "6c05cc5c",
   "metadata": {},
   "source": [
    "Q.1: Função que estima π"
   ]
  },
  {
   "cell_type": "code",
   "execution_count": 5,
   "id": "0ade6a1a",
   "metadata": {},
   "outputs": [
    {
     "name": "stdout",
     "output_type": "stream",
     "text": [
      "1. FUNAÇÃO PARA ESTIMAR π\n",
      " Usando a série: arctan(1) = Σ(n=0 to ∞) (-1)^n / (2n+1)\n",
      " E a realação: π = 4 * arctan(1)\n",
      "\n"
     ]
    }
   ],
   "source": [
    "print(\"1. FUNAÇÃO PARA ESTIMAR π\")\n",
    "print(\" Usando a série: arctan(1) = Σ(n=0 to ∞) (-1)^n / (2n+1)\")\n",
    "print(\" E a realação: π = 4 * arctan(1)\\n\")"
   ]
  },
  {
   "cell_type": "markdown",
   "id": "19fd1598",
   "metadata": {},
   "source": [
    "Q.2: Aproximações com número limitado de termos"
   ]
  },
  {
   "cell_type": "code",
   "execution_count": 6,
   "id": "2c75114b",
   "metadata": {},
   "outputs": [
    {
     "name": "stdout",
     "output_type": "stream",
     "text": [
      "2. APROXIMAÇÕES COM NÚMERO LIMITADO DE TERMOS\n",
      " Calculando π_k = 4 * Σ(n=0 to k-1) (-1)^n / (2n+1)\n",
      "\n"
     ]
    }
   ],
   "source": [
    "print(\"2. APROXIMAÇÕES COM NÚMERO LIMITADO DE TERMOS\")\n",
    "print(\" Calculando π_k = 4 * Σ(n=0 to k-1) (-1)^n / (2n+1)\\n\")"
   ]
  },
  {
   "cell_type": "markdown",
   "id": "8de9dc32",
   "metadata": {},
   "source": [
    "Exemplos de cálculos"
   ]
  },
  {
   "cell_type": "code",
   "execution_count": 23,
   "id": "5512afc6",
   "metadata": {},
   "outputs": [
    {
     "name": "stdout",
     "output_type": "stream",
     "text": [
      "Para k =   1: π_1 = 4.000000 (erro: 0.858407, 27.324%)\n",
      "Para k =   2: π_2 = 2.666667 (erro: 0.474926, 15.117%)\n",
      "Para k =   3: π_3 = 3.466667 (erro: 0.325074, 10.347%)\n",
      "Para k =   5: π_5 = 3.339683 (erro: 0.198090, 6.305%)\n",
      "Para k =  10: π_10 = 3.041840 (erro: 0.099753, 3.175%)\n",
      "Para k =  20: π_20 = 3.091624 (erro: 0.049969, 1.591%)\n",
      "Para k =  50: π_50 = 3.121595 (erro: 0.019998, 0.637%)\n",
      "Para k = 100: π_100 = 3.131593 (erro: 0.010000, 0.318%)\n",
      "Para k = 200: π_200 = 3.136593 (erro: 0.005000, 0.159%)\n",
      "Para k = 500: π_500 = 3.139593 (erro: 0.002000, 0.064%)\n",
      "Para k = 1000: π_1000 = 3.140593 (erro: 0.001000, 0.032%)\n",
      "Para k = 5000: π_5000 = 3.141393 (erro: 0.000200, 0.006%)\n",
      "Para k = 10000: π_10000 = 3.141493 (erro: 0.000100, 0.003%)\n",
      "Para k = 100000: π_100000 = 3.141583 (erro: 0.000010, 0.000%)\n",
      "Para k = 1000000: π_1000000 = 3.141592 (erro: 0.000001, 0.000%)\n",
      "Para k = 10000000: π_10000000 = 3.141593 (erro: 0.000000, 0.000%)\n",
      "\n",
      "Valor real de π: 3.141593\n"
     ]
    }
   ],
   "source": [
    "k_values = [1, 2, 3, 5, 10, 20, 50, 100, 200, 500, 1000, 5000, 10000, 100000, 1000000,10000000]\n",
    "resultados = []\n",
    "\n",
    "for k in k_values:\n",
    "    pi_k = estimar_pi(k)\n",
    "    erro = abs(pi_k - pi_real)\n",
    "    relative_error = (erro / pi_real) * 100\n",
    "\n",
    "    resultados.append({\n",
    "        'k': k,\n",
    "        'π_k': pi_k,\n",
    "        'Erro absoluto': erro,\n",
    "        'Erro relativo (%)': relative_error\n",
    "    })\n",
    "\n",
    "    print(f\"Para k = {k:3d}: π_{k} = {pi_k:.6f} (erro: {erro:.6f}, {relative_error:.3f}%)\")\n",
    "print(f\"\\nValor real de π: {pi_real:.6f}\")"
   ]
  },
  {
   "cell_type": "markdown",
   "id": "cbb5e96e",
   "metadata": {},
   "source": [
    "Criar DataFrame para melhor visualização"
   ]
  },
  {
   "cell_type": "code",
   "execution_count": 24,
   "id": "27a57375",
   "metadata": {},
   "outputs": [
    {
     "name": "stdout",
     "output_type": "stream",
     "text": [
      "\n",
      "======================================================================\n",
      "TABELA DOS RESULTADOS\n",
      "======================================================================\n",
      "       k               π_k     Erro absoluto  Erro relativo (%)\n",
      "       1 4.000000000000000 0.858407346410207 27.323954473516270\n",
      "       2 2.666666666666667 0.474925986923126 15.117363684322473\n",
      "       3 3.466666666666667 0.325074013076874 10.347427210380774\n",
      "       5 3.339682539682540 0.198089886092747  6.305396909634241\n",
      "      10 3.041839618929403 0.099753034660390  3.175237710923643\n",
      "      20 3.091623806667840 0.049968846921953  1.590557797646220\n",
      "      50 3.121594652591011 0.019998000998782  0.636556142182567\n",
      "     100 3.131592903558554 0.009999750031239  0.318301929431018\n",
      "     200 3.136592684838816 0.004999968750977  0.159153948404599\n",
      "     500 3.139592655589785 0.001999998000008  0.063661913575037\n",
      "    1000 3.140592653839794 0.000999999749999  0.031830980660599\n",
      "    5000 3.141392653591791 0.000199999998002  0.006366197660078\n",
      "   10000 3.141492653590034 0.000099999999759  0.003183098854155\n",
      "  100000 3.141582653589720 0.000010000000073  0.000318309888518\n",
      " 1000000 3.141591653589774 0.000001000000019  0.000031830989217\n",
      "10000000 3.141592553589792 0.000000100000002  0.000003183098913\n"
     ]
    }
   ],
   "source": [
    "df_resultados = pd.DataFrame(resultados)\n",
    "print(\"\\n\" + \"=\"*70)\n",
    "print(\"TABELA DOS RESULTADOS\")\n",
    "print(\"=\"*70)\n",
    "print(df_resultados.to_string(index=False, float_format=\"{:.15f}\".format ))    "
   ]
  }
 ],
 "metadata": {
  "kernelspec": {
   "display_name": "Python 3",
   "language": "python",
   "name": "python3"
  },
  "language_info": {
   "codemirror_mode": {
    "name": "ipython",
    "version": 3
   },
   "file_extension": ".py",
   "mimetype": "text/x-python",
   "name": "python",
   "nbconvert_exporter": "python",
   "pygments_lexer": "ipython3",
   "version": "3.11.9"
  }
 },
 "nbformat": 4,
 "nbformat_minor": 5
}
