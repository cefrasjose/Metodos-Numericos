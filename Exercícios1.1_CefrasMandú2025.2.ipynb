{
 "cells": [
  {
   "cell_type": "markdown",
   "id": "a463fdee",
   "metadata": {},
   "source": [
    "## Exercício Aritmética de Ponto Flutuante e Tratamento de Erros"
   ]
  },
  {
   "cell_type": "markdown",
   "id": "ad2cdabf",
   "metadata": {},
   "source": [
    "1.1 O método “divisão e média”, um método antigo para estimação de raiz\n",
    "quadrada de um número positivo a, pode ser formulado como\n",
    "\n",
    "xi+1 =\n",
    "xi + a/xi\n",
    "2\n",
    "\n",
    "\n",
    "Calcule o erro relativo da aproximação para as 10 primeiras iterações."
   ]
  },
  {
   "cell_type": "code",
   "execution_count": 2,
   "id": "71bc61c8",
   "metadata": {},
   "outputs": [],
   "source": [
    "import numpy as np\n",
    "import pandas as pd\n"
   ]
  },
  {
   "cell_type": "markdown",
   "id": "65e32133",
   "metadata": {},
   "source": [
    "Função para o método \"divisão e média\" e cálculo do erro relativo"
   ]
  },
  {
   "cell_type": "code",
   "execution_count": null,
   "id": "d4b22ef7",
   "metadata": {},
   "outputs": [],
   "source": [
    "def divisao_e_media(a, num_iteracoes):"
   ]
  },
  {
   "cell_type": "markdown",
   "id": "3e7c0318",
   "metadata": {},
   "source": [
    "Calcula a raiz quadrada de 'a' usando o método \"divisão e média\"\n",
    "e exibe o erro relativo a cada iteração.\n",
    "Valor verdadeiro para o cálculo do erro"
   ]
  },
  {
   "cell_type": "code",
   "execution_count": null,
   "id": "78d420fe",
   "metadata": {},
   "outputs": [],
   "source": [
    "valor_real = np.sqrt(a)"
   ]
  },
  {
   "cell_type": "markdown",
   "id": "9dfc6cb8",
   "metadata": {},
   "source": [
    "Chute inicial"
   ]
  },
  {
   "cell_type": "code",
   "execution_count": null,
   "id": "10897e2d",
   "metadata": {},
   "outputs": [],
   "source": [
    "x = float(a)"
   ]
  },
  {
   "cell_type": "markdown",
   "id": "7577b2d9",
   "metadata": {},
   "source": [
    "Calcula o erro relativo da aproximação ATUAL (antes de atualizar)"
   ]
  },
  {
   "cell_type": "code",
   "execution_count": null,
   "id": "b8bba5ed",
   "metadata": {},
   "outputs": [],
   "source": [
    "        erro_relativo = (np.abs(valor_real - x) / valor_real) * 100\n",
    "\n",
    "        print(f\"{i:<10} | {x:<20.15f} | {erro_relativo:<20.15f}\")"
   ]
  },
  {
   "cell_type": "markdown",
   "id": "5acc8ab4",
   "metadata": {},
   "source": [
    "Atualiza o valor de x para a próxima iteração"
   ]
  },
  {
   "cell_type": "code",
   "execution_count": null,
   "id": "708711cf",
   "metadata": {},
   "outputs": [],
   "source": [
    "x = (x + a / x) / 2"
   ]
  },
  {
   "cell_type": "markdown",
   "id": "8ca7911b",
   "metadata": {},
   "source": [
    "Parâmetros"
   ]
  },
  {
   "cell_type": "code",
   "execution_count": null,
   "id": "7fcfc3be",
   "metadata": {},
   "outputs": [],
   "source": [
    "numero_a = 2\n",
    "iteracoes = 10"
   ]
  },
  {
   "cell_type": "markdown",
   "id": "946cc0da",
   "metadata": {},
   "source": [
    "Execução"
   ]
  },
  {
   "cell_type": "code",
   "execution_count": null,
   "id": "e06c2ce5",
   "metadata": {},
   "outputs": [],
   "source": [
    "divisao_e_media(numero_a, iteracoes)"
   ]
  },
  {
   "cell_type": "code",
   "execution_count": 6,
   "id": "ec919561",
   "metadata": {},
   "outputs": [
    {
     "name": "stdout",
     "output_type": "stream",
     "text": [
      "Calculando a raiz quadrada de 2:\n",
      "\n",
      "--------------------------------------------------\n",
      "Iteração   | Valor Aproximado     | Erro Relativo (%)   \n",
      "--------------------------------------------------\n",
      "1          | 2.000000000000000    | 41.421356237309496  \n",
      "2          | 1.500000000000000    | 6.066017177982121   \n",
      "3          | 1.416666666666667    | 0.173460668094215   \n",
      "4          | 1.414215686274510    | 0.000150182509278   \n",
      "5          | 1.414213562374690    | 0.000000000112764   \n",
      "6          | 1.414213562373095    | 0.000000000000016   \n",
      "7          | 1.414213562373095    | 0.000000000000016   \n",
      "8          | 1.414213562373095    | 0.000000000000016   \n",
      "9          | 1.414213562373095    | 0.000000000000016   \n",
      "10         | 1.414213562373095    | 0.000000000000016   \n"
     ]
    }
   ],
   "source": [
    "def divisao_e_media(a, num_iteracoes):\n",
    "    valor_real = np.sqrt(a)\n",
    "\n",
    "    x = float(a)\n",
    "\n",
    "    print(f\"Calculando a raiz quadrada de {a}:\\n\")\n",
    "    print(\"-\" * 50)\n",
    "    print(f\"{'Iteração':<10} | {'Valor Aproximado':<20} | {'Erro Relativo (%)':<20}\")\n",
    "    print(\"-\" * 50)\n",
    "\n",
    "    for i in range(1, num_iteracoes + 1):\n",
    "        erro_relativo = (np.abs(valor_real - x) / valor_real) * 100\n",
    "\n",
    "        print(f\"{i:<10} | {x:<20.15f} | {erro_relativo:<20.15f}\")\n",
    "\n",
    "        x = (x + a / x) / 2\n",
    "\n",
    "numero_a = 2\n",
    "iteracoes = 10\n",
    "\n",
    "\n",
    "divisao_e_media(numero_a, iteracoes)"
   ]
  },
  {
   "cell_type": "markdown",
   "id": "00150a70",
   "metadata": {},
   "source": [
    "1.2 Para computadores, o épsilon da máquina, ε, pode ser definido como o menor\n",
    "número que, adicionado a um, retorna um número maior que um, como definimos anteriormente.\n",
    "Usando o algoritmo abaixo, implemente um programa que calcula o épsilon da sua máquina.\n",
    "Compare com os resultados obtidos via numpy.\n",
    "\n",
    "Passo 1: Defina e = 1\n",
    "Passo 2: Se 1 + e for menor ou igual a 1, vá para o Passo 5;\n",
    "\n",
    "caso contrário, vá ao Passo 3\n",
    "\n",
    "Passo 3: e = e/2\n",
    "Passo 4: Retorne ao Passo 2\n",
    "Passo 5: e = 2 x e"
   ]
  },
  {
   "cell_type": "code",
   "execution_count": 7,
   "id": "bf1e734d",
   "metadata": {},
   "outputs": [],
   "source": [
    "import sys"
   ]
  },
  {
   "cell_type": "markdown",
   "id": "97226c77",
   "metadata": {},
   "source": [
    "Implementação do algoritmo do exercício"
   ]
  },
  {
   "cell_type": "code",
   "execution_count": null,
   "id": "15a2784c",
   "metadata": {},
   "outputs": [],
   "source": [
    "e = 1.0\n",
    "while (1.0 + e) > 1.0:\n",
    "    e = e / 2.0\n",
    "\n",
    "epsilon_calculado = e * 2.0\n",
    "\n",
    "print(f\"Épsilon da máquina calculado pelo algoritmo: {epsilon_calculado}\")"
   ]
  },
  {
   "cell_type": "markdown",
   "id": "449843b7",
   "metadata": {},
   "source": [
    "Comparação com as bibliotecas padrão"
   ]
  },
  {
   "cell_type": "code",
   "execution_count": null,
   "id": "7c500c30",
   "metadata": {},
   "outputs": [],
   "source": [
    "epsilon_numpy = np.finfo(float).eps\n",
    "epsilon_sys = sys.float_info.epsilon\n",
    "\n",
    "print(f\"Épsilon da máquina via numpy.finfo:       {epsilon_numpy}\")\n",
    "print(f\"Épsilon da máquina via sys.float_info:     {epsilon_sys}\")"
   ]
  },
  {
   "cell_type": "code",
   "execution_count": 8,
   "id": "0b9da3c4",
   "metadata": {},
   "outputs": [
    {
     "name": "stdout",
     "output_type": "stream",
     "text": [
      "Épsilon da máquina calculado pelo algoritmo: 2.220446049250313e-16\n",
      "Épsilon da máquina via numpy.finfo:       2.220446049250313e-16\n",
      "Épsilon da máquina via sys.float_info:     2.220446049250313e-16\n"
     ]
    }
   ],
   "source": [
    "e = 1.0\n",
    "while (1.0 + e) > 1.0:\n",
    "    e = e / 2.0\n",
    "\n",
    "epsilon_calculado = e * 2.0\n",
    "\n",
    "print(f\"Épsilon da máquina calculado pelo algoritmo: {epsilon_calculado}\")\n",
    "\n",
    "\n",
    "epsilon_numpy = np.finfo(float).eps\n",
    "epsilon_sys = sys.float_info.epsilon\n",
    "\n",
    "print(f\"Épsilon da máquina via numpy.finfo:       {epsilon_numpy}\")\n",
    "print(f\"Épsilon da máquina via sys.float_info:     {epsilon_sys}\")"
   ]
  },
  {
   "cell_type": "markdown",
   "id": "420e5ce3",
   "metadata": {},
   "source": [
    "1.3 Considere o seguinte processo iterativo:\n",
    "\n",
    "x\n",
    "(1) =\n",
    "1\n",
    "3\n",
    "\n",
    "x\n",
    "(n+1) = 4x\n",
    "\n",
    "(1) − 1, n = 1, 2, . . .\n",
    "\n",
    "Observe que x\n",
    "(1) =\n",
    "1\n",
    "3\n",
    ", x\n",
    "(2) = 4 1\n",
    "3 − 1 = 1\n",
    "3\n",
    ", x\n",
    "(3) = 4 1\n",
    "3 − 1 = 1\n",
    "3\n",
    ", e por aí vai, ou seja, temos\n",
    "\n",
    "uma sequência constante igual a 1\n",
    "3\n",
    ".\n",
    "\n",
    "Implemente essa série iterativa, verificando se a convergência de fato ocorre e justifique\n",
    "o resultado obtido."
   ]
  },
  {
   "cell_type": "markdown",
   "id": "063d0d59",
   "metadata": {},
   "source": [
    "Valor inicial"
   ]
  },
  {
   "cell_type": "code",
   "execution_count": null,
   "id": "9b3e47a3",
   "metadata": {},
   "outputs": [],
   "source": [
    "x = 1.0 / 3.0\n",
    "\n",
    "print(f\"Iniciando com x = {x:.20f}\\n\")"
   ]
  },
  {
   "cell_type": "markdown",
   "id": "c636c40b",
   "metadata": {},
   "source": [
    "Iterando 40 vezes"
   ]
  },
  {
   "cell_type": "code",
   "execution_count": null,
   "id": "6773cc1b",
   "metadata": {},
   "outputs": [],
   "source": [
    "for i in range(1, 41):\n",
    "    x = 4.0 * x - 1.0\n",
    "    print(f\"Iteração {i:2}: x = {x:.20f}\")\n",
    "    if np.isinf(x) or np.isnan(x):\n",
    "        print(\"\\nO valor divergiu para infinito ou NaN.\")\n",
    "        break"
   ]
  },
  {
   "cell_type": "code",
   "execution_count": 9,
   "id": "21ccbb73",
   "metadata": {},
   "outputs": [
    {
     "name": "stdout",
     "output_type": "stream",
     "text": [
      "Iniciando com x = 0.33333333333333331483\n",
      "\n",
      "Iteração  1: x = 0.33333333333333325932\n",
      "Iteração  2: x = 0.33333333333333303727\n",
      "Iteração  3: x = 0.33333333333333214910\n",
      "Iteração  4: x = 0.33333333333332859638\n",
      "Iteração  5: x = 0.33333333333331438553\n",
      "Iteração  6: x = 0.33333333333325754211\n",
      "Iteração  7: x = 0.33333333333303016843\n",
      "Iteração  8: x = 0.33333333333212067373\n",
      "Iteração  9: x = 0.33333333332848269492\n",
      "Iteração 10: x = 0.33333333331393077970\n",
      "Iteração 11: x = 0.33333333325572311878\n",
      "Iteração 12: x = 0.33333333302289247513\n",
      "Iteração 13: x = 0.33333333209156990051\n",
      "Iteração 14: x = 0.33333332836627960205\n",
      "Iteração 15: x = 0.33333331346511840820\n",
      "Iteração 16: x = 0.33333325386047363281\n",
      "Iteração 17: x = 0.33333301544189453125\n",
      "Iteração 18: x = 0.33333206176757812500\n",
      "Iteração 19: x = 0.33332824707031250000\n",
      "Iteração 20: x = 0.33331298828125000000\n",
      "Iteração 21: x = 0.33325195312500000000\n",
      "Iteração 22: x = 0.33300781250000000000\n",
      "Iteração 23: x = 0.33203125000000000000\n",
      "Iteração 24: x = 0.32812500000000000000\n",
      "Iteração 25: x = 0.31250000000000000000\n",
      "Iteração 26: x = 0.25000000000000000000\n",
      "Iteração 27: x = 0.00000000000000000000\n",
      "Iteração 28: x = -1.00000000000000000000\n",
      "Iteração 29: x = -5.00000000000000000000\n",
      "Iteração 30: x = -21.00000000000000000000\n",
      "Iteração 31: x = -85.00000000000000000000\n",
      "Iteração 32: x = -341.00000000000000000000\n",
      "Iteração 33: x = -1365.00000000000000000000\n",
      "Iteração 34: x = -5461.00000000000000000000\n",
      "Iteração 35: x = -21845.00000000000000000000\n",
      "Iteração 36: x = -87381.00000000000000000000\n",
      "Iteração 37: x = -349525.00000000000000000000\n",
      "Iteração 38: x = -1398101.00000000000000000000\n",
      "Iteração 39: x = -5592405.00000000000000000000\n",
      "Iteração 40: x = -22369621.00000000000000000000\n"
     ]
    }
   ],
   "source": [
    "x = 1.0 / 3.0\n",
    "\n",
    "print(f\"Iniciando com x = {x:.20f}\\n\")\n",
    "\n",
    "for i in range(1, 41):\n",
    "    x = 4.0 * x - 1.0\n",
    "    print(f\"Iteração {i:2}: x = {x:.20f}\")\n",
    "    if np.isinf(x) or np.isnan(x):\n",
    "        print(\"\\nO valor divergiu para infinito ou NaN.\")\n",
    "        break"
   ]
  },
  {
   "cell_type": "markdown",
   "id": "4cc95cbc",
   "metadata": {},
   "source": [
    "1.4 Considere as expressões:\n",
    "exp(1/μ)\n",
    "1 + exp(1/μ)\n",
    "\n",
    "\n",
    "\n",
    "e\n",
    "\n",
    "1\n",
    "exp(−1/μ) + 1 \n",
    "com μ > 0. Verifique que elas são idênticas como funções reais. Teste no computador cada\n",
    "uma delas para μ = 0, 1, μ = 0, 01, μ = 0, 001 ou menor e responda: Qual dessas expressões é\n",
    "mais adequada quando μ é um número pequeno? Por quê?"
   ]
  },
  {
   "cell_type": "markdown",
   "id": "4d9fcc3e",
   "metadata": {},
   "source": [
    "Para evitar o aviso de overflow, que é esperado aqui"
   ]
  },
  {
   "cell_type": "code",
   "execution_count": 10,
   "id": "b8b1926c",
   "metadata": {},
   "outputs": [],
   "source": [
    "import warnings\n",
    "warnings.filterwarnings(\"ignore\", category=RuntimeWarning)"
   ]
  },
  {
   "cell_type": "code",
   "execution_count": 11,
   "id": "a5454139",
   "metadata": {},
   "outputs": [
    {
     "name": "stdout",
     "output_type": "stream",
     "text": [
      "μ          | f1(μ)                | f2(μ)               \n",
      "--------------------------------------------------\n",
      "0.1        | 0.9999546021312976   | 0.9999546021312976  \n",
      "0.01       | 1.0                  | 1.0                 \n",
      "0.001      | nan                  | 1.0                 \n",
      "0.0001     | nan                  | 1.0                 \n"
     ]
    }
   ],
   "source": [
    "def f1(mu):\n",
    "    exp_val = np.exp(1/mu)\n",
    "    return exp_val / (1 + exp_val)\n",
    "\n",
    "def f2(mu):\n",
    "    exp_val = np.exp(-1/mu)\n",
    "    return 1 / (1 + exp_val)\n",
    "\n",
    "mus = [0.1, 0.01, 0.001, 0.0001]\n",
    "\n",
    "print(f\"{'μ':<10} | {'f1(μ)':<20} | {'f2(μ)':<20}\")\n",
    "print(\"-\" * 50)\n",
    "\n",
    "for mu in mus:\n",
    "    print(f\"{mu:<10} | {f1(mu):<20} | {f2(mu):<20}\")"
   ]
  },
  {
   "cell_type": "markdown",
   "id": "f3bef16c",
   "metadata": {},
   "source": [
    "Resposta: A expressão f_2(\n",
    "mu) é muito mais adequada para valores pequenos de \n",
    "mu. Ela evita o overflow que torna a expressão f_1(\n",
    "mu) inutilizável, demonstrando como uma simples manipulação algébrica pode resultar em uma fórmula numericamente muito mais estável."
   ]
  },
  {
   "cell_type": "markdown",
   "id": "05762838",
   "metadata": {},
   "source": [
    "1.5 Observe a seguinte identidade\n",
    "f(x) = (1 + x) − 1\n",
    "x\n",
    ". (1.54)\n",
    "Não é muito difícil verificar, analiticamente, que, para qualquer valor de x, sempre teremos\n",
    "f(x) = 1. Faça um programa que calcule o valor da expressão para x = 10−12\n",
    "\n",
    ", x = 10−15 e\n",
    "\n",
    "x = 10−17. Compare os resultados com o resultado analítico e explique-os."
   ]
  },
  {
   "cell_type": "code",
   "execution_count": null,
   "id": "c9ecc3d1",
   "metadata": {},
   "outputs": [],
   "source": [
    "def f(x):"
   ]
  },
  {
   "cell_type": "markdown",
   "id": "3aecbb83",
   "metadata": {},
   "source": [
    "Calcula a expressão ((1+x) - 1) / x."
   ]
  },
  {
   "cell_type": "code",
   "execution_count": null,
   "id": "01481746",
   "metadata": {},
   "outputs": [],
   "source": [
    "    return ((1.0 + x) - 1.0) / x"
   ]
  },
  {
   "cell_type": "code",
   "execution_count": 12,
   "id": "9e0cabe3",
   "metadata": {},
   "outputs": [
    {
     "name": "stdout",
     "output_type": "stream",
     "text": [
      "Valor de x | Resultado de f(x)   \n",
      "-----------------------------------\n",
      "1.00e-12   | 1.000088900582341   \n",
      "1.00e-15   | 1.110223024625157   \n",
      "1.00e-17   | 0.000000000000000   \n"
     ]
    }
   ],
   "source": [
    "def f(x):\n",
    "    return ((1.0 + x) - 1.0) / x\n",
    "\n",
    "valores_x = [1e-12, 1e-15, 1e-17]\n",
    "\n",
    "print(f\"{'Valor de x':<10} | {'Resultado de f(x)':<20}\")\n",
    "print(\"-\" * 35)\n",
    "\n",
    "for x in valores_x:\n",
    "    resultado = f(x)\n",
    "    print(f\"{x:<10.2e} | {resultado:<20.15f}\")"
   ]
  },
  {
   "cell_type": "markdown",
   "id": "ac5a5258",
   "metadata": {},
   "source": [
    "Resposta: Os resultados divergem do valor analítico (1) e a explicação reside nos conceitos de épsilon de máquina e cancelamento catastrófico.\n",
    "\n",
    "x=10^−12: é grande o suficiente para ser somado a 1 e produzir um resultado preciso dentro da representação de 64 bits. O cálculo funciona como esperado.\n",
    "\n",
    "x=10^−15: está se aproximando do épsilon da máquina (~2.22times10^−16). A soma 1.0 + 1e-15 perde alguma precisão. Quando subtraímos 1 em seguida, os dígitos mais significativos se cancelam, e o resultado final é dominado pelo erro de arredondamento da soma inicial. Isso é um exemplo de cancelamento catastrófico, onde a subtração de dois números quase iguais causa uma perda significativa de dígitos de precisão. \n",
    "\n",
    "x=10^−17: é menor que o épsilon da máquina. Devido à precisão finita, o computador não consegue representar a diferença entre 1 e 1 + 1e-17. Portanto, a operação \n",
    "1.0 + 1e-17 é simplesmente arredondada para 1.0.  A expressão no numerador se torna 1.0 - 1.0 = 0.0. O resultado final é 0.0 / 1e-17 = 0.0. A informação contida em x foi completamente perdida na primeira soma."
   ]
  },
  {
   "cell_type": "markdown",
   "id": "2583da51",
   "metadata": {},
   "source": [
    "1.6 Existem diferentes métodos para calcular aproximadamente o valor de π\n",
    "computacionalmente. Vários desses métodos usam a aproximação por séries de Taylor para\n",
    "o arcotangente, definida por:\n",
    "arctan(x) = x −\n",
    "x\n",
    "3\n",
    "3\n",
    "+\n",
    "x\n",
    "5\n",
    "5\n",
    "−\n",
    "x\n",
    "7\n",
    "7\n",
    "+ · · · =\n",
    "X∞\n",
    "n=0\n",
    "(−1)n x\n",
    "2n+1\n",
    "2n + 1\n",
    "\n",
    "São alguns desses métodos:\n",
    "a) Fórmula de Machin\n",
    "\n",
    "π\n",
    "4\n",
    "= 4 arctan\n",
    "1\n",
    "5\n",
    "− arctan\n",
    "1\n",
    "239\n",
    "\n",
    "Nota: essa fórmula foi usada em 1949 para calcular o valor de π com 2035 casas decimais\n",
    "no ENIAC.\n",
    "b) Fórmula de Hutton\n",
    "\n",
    "π\n",
    "4\n",
    "= arctan\n",
    "1\n",
    "2\n",
    "+ arctan\n",
    "1\n",
    "3\n",
    "\n",
    "c) Fórmula de Clausen\n",
    "\n",
    "π\n",
    "4\n",
    "= 2 arctan\n",
    "1\n",
    "3\n",
    "+ arctan\n",
    "1\n",
    "7\n",
    "\n",
    "d) Fórmula de Dase\n",
    "\n",
    "π\n",
    "4\n",
    "= arctan\n",
    "1\n",
    "2\n",
    "+ arctan\n",
    "1\n",
    "5\n",
    "+ arctan\n",
    "1\n",
    "8\n",
    "\n",
    "Gere gráficos que comparem a evolução do erro em função do número de termos\n",
    "considerados, para os vinte primeiros termos de cada método descrito acima e comente os\n",
    "resultados obtidos."
   ]
  },
  {
   "cell_type": "code",
   "execution_count": 13,
   "id": "bc2908f5",
   "metadata": {},
   "outputs": [],
   "source": [
    "import matplotlib.pyplot as plt"
   ]
  },
  {
   "cell_type": "markdown",
   "id": "3394631c",
   "metadata": {},
   "source": [
    "Valor de referência para o Pi"
   ]
  },
  {
   "cell_type": "code",
   "execution_count": null,
   "id": "76907ecc",
   "metadata": {},
   "outputs": [],
   "source": [
    "PI_REAL = np.pi"
   ]
  },
  {
   "cell_type": "markdown",
   "id": "97ea9919",
   "metadata": {},
   "source": [
    "Calcula a aproximação de arctan(x) usando a série de Taylor com N termos."
   ]
  },
  {
   "cell_type": "code",
   "execution_count": null,
   "id": "d8facfdf",
   "metadata": {},
   "outputs": [],
   "source": [
    "def arctan_approx(x, N):\n",
    "    total = 0.0\n",
    "    for n in range(N):\n",
    "        termo = ((-1)**n * x**(2*n + 1)) / (2*n + 1)\n",
    "        total += termo\n",
    "    return total"
   ]
  },
  {
   "cell_type": "markdown",
   "id": "e71394da",
   "metadata": {},
   "source": [
    "Listas para armazenar a evolução do erro para cada método"
   ]
  },
  {
   "cell_type": "code",
   "execution_count": null,
   "id": "25f3fa9e",
   "metadata": {},
   "outputs": [],
   "source": [
    "erros_machin = []\n",
    "erros_hutton = []\n",
    "erros_clausen = []\n",
    "erros_dase = []"
   ]
  },
  {
   "cell_type": "markdown",
   "id": "607b1ead",
   "metadata": {},
   "source": [
    "Número de termos a serem testados"
   ]
  },
  {
   "cell_type": "code",
   "execution_count": null,
   "id": "e0966496",
   "metadata": {},
   "outputs": [],
   "source": [
    "num_termos = range(1, 21)"
   ]
  },
  {
   "cell_type": "markdown",
   "id": "d3055255",
   "metadata": {},
   "source": [
    "Loop para calcular os erros para N = 1, 2, ..., 20"
   ]
  },
  {
   "cell_type": "code",
   "execution_count": null,
   "id": "f8112840",
   "metadata": {},
   "outputs": [],
   "source": [
    "for N in num_termos:"
   ]
  },
  {
   "cell_type": "markdown",
   "id": "46e2eef2",
   "metadata": {},
   "source": [
    "a) Fórmula de Machin"
   ]
  },
  {
   "cell_type": "code",
   "execution_count": null,
   "id": "8a5704f5",
   "metadata": {},
   "outputs": [],
   "source": [
    "    pi_machin = 4 * (4 * arctan_approx(1/5, N) - arctan_approx(1/239, N))\n",
    "    erros_machin.append(np.abs(pi_machin - PI_REAL))"
   ]
  },
  {
   "cell_type": "markdown",
   "id": "e0c2d81f",
   "metadata": {},
   "source": [
    "b) Fórmula de Hutton"
   ]
  },
  {
   "cell_type": "code",
   "execution_count": null,
   "id": "8506de47",
   "metadata": {},
   "outputs": [],
   "source": [
    "    pi_hutton = 4 * (arctan_approx(1/2, N) + arctan_approx(1/3, N))\n",
    "    erros_hutton.append(np.abs(pi_hutton - PI_REAL))"
   ]
  },
  {
   "cell_type": "markdown",
   "id": "79678fa8",
   "metadata": {},
   "source": [
    "c) Fórmula de Clausen"
   ]
  },
  {
   "cell_type": "code",
   "execution_count": null,
   "id": "a27d1b51",
   "metadata": {},
   "outputs": [],
   "source": [
    "    pi_clausen = 4 * (2 * arctan_approx(1/3, N) + arctan_approx(1/7, N))\n",
    "    erros_clausen.append(np.abs(pi_clausen - PI_REAL))"
   ]
  },
  {
   "cell_type": "markdown",
   "id": "877c7a4a",
   "metadata": {},
   "source": [
    "d) Fórmula de Dase"
   ]
  },
  {
   "cell_type": "code",
   "execution_count": null,
   "id": "0a06ea3a",
   "metadata": {},
   "outputs": [],
   "source": [
    "    pi_dase = 4 * (arctan_approx(1/2, N) + arctan_approx(1/5, N) + arctan_approx(1/8, N))\n",
    "    erros_dase.append(np.abs(pi_dase - PI_REAL))"
   ]
  },
  {
   "cell_type": "markdown",
   "id": "c171b7f9",
   "metadata": {},
   "source": [
    "Geração do Gráfico"
   ]
  },
  {
   "cell_type": "code",
   "execution_count": null,
   "id": "64671904",
   "metadata": {},
   "outputs": [],
   "source": [
    "plt.figure(figsize=(12, 8))\n",
    "plt.plot(num_termos, erros_machin, 'o-', label='Fórmula de Machin')\n",
    "plt.plot(num_termos, erros_hutton, 's-', label='Fórmula de Hutton')\n",
    "plt.plot(num_termos, erros_clausen, '^-', label='Fórmula de Clausen')\n",
    "plt.plot(num_termos, erros_dase, 'd-', label='Fórmula de Dase')"
   ]
  },
  {
   "cell_type": "markdown",
   "id": "5b6bd9e4",
   "metadata": {},
   "source": [
    "Configurando o gráfico"
   ]
  },
  {
   "cell_type": "code",
   "execution_count": null,
   "id": "7d7fbe44",
   "metadata": {},
   "outputs": [],
   "source": [
    "plt.title('Evolução do Erro na Aproximação de π vs. Número de Termos')\n",
    "plt.xlabel('Número de Termos (N) na Série de Taylor')\n",
    "plt.ylabel('Erro Absoluto (Escala Logarítmica)')\n",
    "plt.yscale('log')\n",
    "plt.xticks(num_termos)\n",
    "plt.grid(True, which=\"both\", ls=\"--\")\n",
    "plt.legend()\n",
    "plt.show()"
   ]
  },
  {
   "cell_type": "markdown",
   "id": "fc16edf0",
   "metadata": {},
   "source": [
    "Escala logarítmica para melhor visualização"
   ]
  },
  {
   "cell_type": "code",
   "execution_count": null,
   "id": "a629b968",
   "metadata": {},
   "outputs": [],
   "source": [
    "plt.yscale('log')"
   ]
  },
  {
   "cell_type": "code",
   "execution_count": 15,
   "id": "d798fe79",
   "metadata": {},
   "outputs": [
    {
     "data": {
      "image/png": "[encoded data removed]",
      "text/plain": [
       "<Figure size 1200x800 with 1 Axes>"
      ]
     },
     "metadata": {},
     "output_type": "display_data"
    }
   ],
   "source": [
    "PI_REAL = np.pi\n",
    "\n",
    "def arctan_approx(x, N):\n",
    "    total = 0.0\n",
    "    for n in range(N):\n",
    "        termo = ((-1)**n * x**(2*n + 1)) / (2*n + 1)\n",
    "        total += termo\n",
    "    return total\n",
    "\n",
    "erros_machin = []\n",
    "erros_hutton = []\n",
    "erros_clausen = []\n",
    "erros_dase = []\n",
    "\n",
    "num_termos = range(1, 21)\n",
    "\n",
    "for N in num_termos:\n",
    "    pi_machin = 4 * (4 * arctan_approx(1/5, N) - arctan_approx(1/239, N))\n",
    "    erros_machin.append(np.abs(pi_machin - PI_REAL))\n",
    "    \n",
    "    pi_hutton = 4 * (arctan_approx(1/2, N) + arctan_approx(1/3, N))\n",
    "    erros_hutton.append(np.abs(pi_hutton - PI_REAL))\n",
    "\n",
    "    pi_clausen = 4 * (2 * arctan_approx(1/3, N) + arctan_approx(1/7, N))\n",
    "    erros_clausen.append(np.abs(pi_clausen - PI_REAL))\n",
    "\n",
    "    pi_dase = 4 * (arctan_approx(1/2, N) + arctan_approx(1/5, N) + arctan_approx(1/8, N))\n",
    "    erros_dase.append(np.abs(pi_dase - PI_REAL))\n",
    "\n",
    "plt.figure(figsize=(12, 8))\n",
    "plt.plot(num_termos, erros_machin, 'o-', label='Fórmula de Machin')\n",
    "plt.plot(num_termos, erros_hutton, 's-', label='Fórmula de Hutton')\n",
    "plt.plot(num_termos, erros_clausen, '^-', label='Fórmula de Clausen')\n",
    "plt.plot(num_termos, erros_dase, 'd-', label='Fórmula de Dase')\n",
    "\n",
    "plt.title('Evolução do Erro na Aproximação de π vs. Número de Termos')\n",
    "plt.xlabel('Número de Termos (N) na Série de Taylor')\n",
    "plt.ylabel('Erro Absoluto (Escala Logarítmica)')\n",
    "plt.yscale('log')\n",
    "plt.xticks(num_termos)\n",
    "plt.grid(True, which=\"both\", ls=\"--\")\n",
    "plt.legend()\n",
    "plt.show()"
   ]
  }
 ],
 "metadata": {
  "kernelspec": {
   "display_name": "Python 3",
   "language": "python",
   "name": "python3"
  },
  "language_info": {
   "codemirror_mode": {
    "name": "ipython",
    "version": 3
   },
   "file_extension": ".py",
   "mimetype": "text/x-python",
   "name": "python",
   "nbconvert_exporter": "python",
   "pygments_lexer": "ipython3",
   "version": "3.11.9"
  }
 },
 "nbformat": 4,
 "nbformat_minor": 5
}
